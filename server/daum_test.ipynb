{
 "cells": [
  {
   "cell_type": "code",
   "execution_count": 44,
   "metadata": {},
   "outputs": [],
   "source": [
    "from bs4 import BeautifulSoup\n",
    "from fastapi import FastAPI\n",
    "import pandas as pd\n",
    "import json\n",
    "import re\n",
    "from PyKomoran import *\n",
    "df = pd.read_json('../user.json')\n",
    "\n",
    "titleL = []\n",
    "contentL = []\n",
    "# dateL = []\n",
    "\n",
    "for i in range(len(df)):\n",
    "    soup = BeautifulSoup(df['data'][i])\n",
    "    title = soup.body.h3.text\n",
    "\n",
    "    body = []\n",
    "    ptags = soup.find('section').find_all('p')\n",
    "    for v in ptags:\n",
    "        body.append(v.get_text())\n",
    "    body = ''.join(body) \n",
    "\n",
    "    titleL.append(title)\n",
    "    contentL.append(body)\n",
    "    # dateL.append(df['date'][i])\n",
    "\n",
    "\n",
    "resultDict = dict(title = titleL,\n",
    "                  content = contentL)"
   ]
  },
  {
   "cell_type": "code",
   "execution_count": 47,
   "metadata": {},
   "outputs": [
    {
     "ename": "FileNotFoundError",
     "evalue": "[WinError 2] 지정된 파일을 찾을 수 없습니다",
     "output_type": "error",
     "traceback": [
      "\u001b[1;31m---------------------------------------------------------------------------\u001b[0m",
      "\u001b[1;31mFileNotFoundError\u001b[0m                         Traceback (most recent call last)",
      "\u001b[1;32md:\\workspace\\scraper\\server\\daum_test.ipynb 셀 3\u001b[0m in \u001b[0;36m<cell line: 1>\u001b[1;34m()\u001b[0m\n\u001b[1;32m----> <a href='vscode-notebook-cell:/d%3A/workspace/scraper/server/daum_test.ipynb#X13sZmlsZQ%3D%3D?line=0'>1</a>\u001b[0m komoran \u001b[39m=\u001b[39m Komoran(\u001b[39m\"\u001b[39;49m\u001b[39mEXP\u001b[39;49m\u001b[39m\"\u001b[39;49m)\n",
      "File \u001b[1;32mc:\\ProgramData\\Anaconda3\\lib\\site-packages\\PyKomoran\\core.py:51\u001b[0m, in \u001b[0;36mKomoran.__init__\u001b[1;34m(self, model_path, max_heap)\u001b[0m\n\u001b[0;32m     47\u001b[0m     \u001b[39mraise\u001b[39;00m KomoranError(\u001b[39m\"\u001b[39m\u001b[39mmodel does NOT exist!\u001b[39m\u001b[39m\"\u001b[39m)\n\u001b[0;32m     49\u001b[0m \u001b[39mself\u001b[39m\u001b[39m.\u001b[39mpos_table \u001b[39m=\u001b[39m Pos()\n\u001b[1;32m---> 51\u001b[0m jvm\u001b[39m.\u001b[39;49minit_jvm(max_heap)\n\u001b[0;32m     52\u001b[0m \u001b[39mself\u001b[39m\u001b[39m.\u001b[39m_komoran \u001b[39m=\u001b[39m jvm\u001b[39m.\u001b[39mget_jvm()\u001b[39m.\u001b[39mkr\u001b[39m.\u001b[39mco\u001b[39m.\u001b[39mshineware\u001b[39m.\u001b[39mnlp\u001b[39m.\u001b[39mpykomoran\u001b[39m.\u001b[39mKomoranEntryPoint()\n\u001b[0;32m     54\u001b[0m \u001b[39mself\u001b[39m\u001b[39m.\u001b[39m_komoran\u001b[39m.\u001b[39minit(model_path)\n",
      "File \u001b[1;32mc:\\ProgramData\\Anaconda3\\lib\\site-packages\\PyKomoran\\jvm.py:42\u001b[0m, in \u001b[0;36minit_jvm\u001b[1;34m(max_heap, jar_path)\u001b[0m\n\u001b[0;32m     39\u001b[0m classpath \u001b[39m=\u001b[39m os\u001b[39m.\u001b[39mpathsep\u001b[39m.\u001b[39mjoin([lib\u001b[39m.\u001b[39mformat(jar_path, os\u001b[39m.\u001b[39msep) \u001b[39mfor\u001b[39;00m lib \u001b[39min\u001b[39;00m libraries])\n\u001b[0;32m     40\u001b[0m py4j_path \u001b[39m=\u001b[39m \u001b[39m\"\u001b[39m\u001b[39m{0}\u001b[39;00m\u001b[39m{1}\u001b[39;00m\u001b[39mpy4j-0.10.9.2.jar\u001b[39m\u001b[39m\"\u001b[39m\u001b[39m.\u001b[39mformat(jar_path, os\u001b[39m.\u001b[39msep)\n\u001b[1;32m---> 42\u001b[0m port \u001b[39m=\u001b[39m launch_gateway(jarpath\u001b[39m=\u001b[39;49mpy4j_path,\n\u001b[0;32m     43\u001b[0m                       classpath\u001b[39m=\u001b[39;49mclasspath,\n\u001b[0;32m     44\u001b[0m                       javaopts\u001b[39m=\u001b[39;49m[\u001b[39m'\u001b[39;49m\u001b[39m-Dfile.encoding=UTF8\u001b[39;49m\u001b[39m'\u001b[39;49m, \u001b[39m'\u001b[39;49m\u001b[39m-ea\u001b[39;49m\u001b[39m'\u001b[39;49m, \u001b[39m'\u001b[39;49m\u001b[39m-Xmx\u001b[39;49m\u001b[39m{}\u001b[39;49;00m\u001b[39mm\u001b[39;49m\u001b[39m'\u001b[39;49m\u001b[39m.\u001b[39;49mformat(max_heap)],\n\u001b[0;32m     45\u001b[0m                       die_on_exit\u001b[39m=\u001b[39;49m\u001b[39mTrue\u001b[39;49;00m)\n\u001b[0;32m     47\u001b[0m logging\u001b[39m.\u001b[39mdebug(\u001b[39m\"\u001b[39m\u001b[39minitializing JVM... \u001b[39m\u001b[39m\"\u001b[39m)\n\u001b[0;32m     48\u001b[0m \u001b[39mtry\u001b[39;00m:\n",
      "File \u001b[1;32mc:\\ProgramData\\Anaconda3\\lib\\site-packages\\py4j\\java_gateway.py:331\u001b[0m, in \u001b[0;36mlaunch_gateway\u001b[1;34m(port, jarpath, classpath, javaopts, die_on_exit, redirect_stdout, redirect_stderr, daemonize_redirect, java_path, create_new_process_group, enable_auth, cwd, return_proc, use_shell)\u001b[0m\n\u001b[0;32m    328\u001b[0m     popen_kwargs\u001b[39m.\u001b[39mupdate(get_create_new_process_group_kwargs())\n\u001b[0;32m    330\u001b[0m popen_kwargs[\u001b[39m\"\u001b[39m\u001b[39mshell\u001b[39m\u001b[39m\"\u001b[39m] \u001b[39m=\u001b[39m use_shell\n\u001b[1;32m--> 331\u001b[0m proc \u001b[39m=\u001b[39m Popen(\n\u001b[0;32m    332\u001b[0m     command, stdout\u001b[39m=\u001b[39mPIPE, stdin\u001b[39m=\u001b[39mPIPE, stderr\u001b[39m=\u001b[39mstderr, cwd\u001b[39m=\u001b[39mcwd,\n\u001b[0;32m    333\u001b[0m     \u001b[39m*\u001b[39m\u001b[39m*\u001b[39mpopen_kwargs)\n\u001b[0;32m    335\u001b[0m \u001b[39m# Determine which port the server started on (needed to support\u001b[39;00m\n\u001b[0;32m    336\u001b[0m \u001b[39m# ephemeral ports)\u001b[39;00m\n\u001b[0;32m    337\u001b[0m _port \u001b[39m=\u001b[39m \u001b[39mint\u001b[39m(proc\u001b[39m.\u001b[39mstdout\u001b[39m.\u001b[39mreadline())\n",
      "File \u001b[1;32mc:\\ProgramData\\Anaconda3\\lib\\subprocess.py:951\u001b[0m, in \u001b[0;36mPopen.__init__\u001b[1;34m(self, args, bufsize, executable, stdin, stdout, stderr, preexec_fn, close_fds, shell, cwd, env, universal_newlines, startupinfo, creationflags, restore_signals, start_new_session, pass_fds, user, group, extra_groups, encoding, errors, text, umask)\u001b[0m\n\u001b[0;32m    947\u001b[0m         \u001b[39mif\u001b[39;00m \u001b[39mself\u001b[39m\u001b[39m.\u001b[39mtext_mode:\n\u001b[0;32m    948\u001b[0m             \u001b[39mself\u001b[39m\u001b[39m.\u001b[39mstderr \u001b[39m=\u001b[39m io\u001b[39m.\u001b[39mTextIOWrapper(\u001b[39mself\u001b[39m\u001b[39m.\u001b[39mstderr,\n\u001b[0;32m    949\u001b[0m                     encoding\u001b[39m=\u001b[39mencoding, errors\u001b[39m=\u001b[39merrors)\n\u001b[1;32m--> 951\u001b[0m     \u001b[39mself\u001b[39;49m\u001b[39m.\u001b[39;49m_execute_child(args, executable, preexec_fn, close_fds,\n\u001b[0;32m    952\u001b[0m                         pass_fds, cwd, env,\n\u001b[0;32m    953\u001b[0m                         startupinfo, creationflags, shell,\n\u001b[0;32m    954\u001b[0m                         p2cread, p2cwrite,\n\u001b[0;32m    955\u001b[0m                         c2pread, c2pwrite,\n\u001b[0;32m    956\u001b[0m                         errread, errwrite,\n\u001b[0;32m    957\u001b[0m                         restore_signals,\n\u001b[0;32m    958\u001b[0m                         gid, gids, uid, umask,\n\u001b[0;32m    959\u001b[0m                         start_new_session)\n\u001b[0;32m    960\u001b[0m \u001b[39mexcept\u001b[39;00m:\n\u001b[0;32m    961\u001b[0m     \u001b[39m# Cleanup if the child failed starting.\u001b[39;00m\n\u001b[0;32m    962\u001b[0m     \u001b[39mfor\u001b[39;00m f \u001b[39min\u001b[39;00m \u001b[39mfilter\u001b[39m(\u001b[39mNone\u001b[39;00m, (\u001b[39mself\u001b[39m\u001b[39m.\u001b[39mstdin, \u001b[39mself\u001b[39m\u001b[39m.\u001b[39mstdout, \u001b[39mself\u001b[39m\u001b[39m.\u001b[39mstderr)):\n",
      "File \u001b[1;32mc:\\ProgramData\\Anaconda3\\lib\\subprocess.py:1420\u001b[0m, in \u001b[0;36mPopen._execute_child\u001b[1;34m(self, args, executable, preexec_fn, close_fds, pass_fds, cwd, env, startupinfo, creationflags, shell, p2cread, p2cwrite, c2pread, c2pwrite, errread, errwrite, unused_restore_signals, unused_gid, unused_gids, unused_uid, unused_umask, unused_start_new_session)\u001b[0m\n\u001b[0;32m   1418\u001b[0m \u001b[39m# Start the process\u001b[39;00m\n\u001b[0;32m   1419\u001b[0m \u001b[39mtry\u001b[39;00m:\n\u001b[1;32m-> 1420\u001b[0m     hp, ht, pid, tid \u001b[39m=\u001b[39m _winapi\u001b[39m.\u001b[39;49mCreateProcess(executable, args,\n\u001b[0;32m   1421\u001b[0m                              \u001b[39m# no special security\u001b[39;49;00m\n\u001b[0;32m   1422\u001b[0m                              \u001b[39mNone\u001b[39;49;00m, \u001b[39mNone\u001b[39;49;00m,\n\u001b[0;32m   1423\u001b[0m                              \u001b[39mint\u001b[39;49m(\u001b[39mnot\u001b[39;49;00m close_fds),\n\u001b[0;32m   1424\u001b[0m                              creationflags,\n\u001b[0;32m   1425\u001b[0m                              env,\n\u001b[0;32m   1426\u001b[0m                              cwd,\n\u001b[0;32m   1427\u001b[0m                              startupinfo)\n\u001b[0;32m   1428\u001b[0m \u001b[39mfinally\u001b[39;00m:\n\u001b[0;32m   1429\u001b[0m     \u001b[39m# Child is launched. Close the parent's copy of those pipe\u001b[39;00m\n\u001b[0;32m   1430\u001b[0m     \u001b[39m# handles that only the child should have open.  You need\u001b[39;00m\n\u001b[1;32m   (...)\u001b[0m\n\u001b[0;32m   1433\u001b[0m     \u001b[39m# pipe will not close when the child process exits and the\u001b[39;00m\n\u001b[0;32m   1434\u001b[0m     \u001b[39m# ReadFile will hang.\u001b[39;00m\n\u001b[0;32m   1435\u001b[0m     \u001b[39mself\u001b[39m\u001b[39m.\u001b[39m_close_pipe_fds(p2cread, p2cwrite,\n\u001b[0;32m   1436\u001b[0m                          c2pread, c2pwrite,\n\u001b[0;32m   1437\u001b[0m                          errread, errwrite)\n",
      "\u001b[1;31mFileNotFoundError\u001b[0m: [WinError 2] 지정된 파일을 찾을 수 없습니다"
     ]
    }
   ],
   "source": [
    "komoran = Komoran(\"EXP\")"
   ]
  },
  {
   "cell_type": "code",
   "execution_count": 34,
   "metadata": {},
   "outputs": [],
   "source": [
    "pdf = pd.DataFrame(resultDict)\n",
    "pdf = pdf.dropna(subset=['title'])\n",
    "pdf = pdf.dropna(subset=['content'])\n",
    "pdf['contents'] = pdf.apply(lambda x:x['title']+\"\\n\"+x['content'],axis=1)\n",
    "pdf['contents']\n",
    "\n",
    "def cleanText(readData):\n",
    "    text = re.sub(r'[-=+,#/\\?:^$.@*\\\"※~&%ㆍ!』\\\\‘|\\(\\)\\[\\]\\<\\>`\\'…》\\’\\“\\”\\·\\n\\r\\t■◇◆▶;\\xa0]', '', readData).strip()\n",
    "    return text\n",
    "\n",
    "def morp(strings):\n",
    "   return [w.get_first()+'다' if w.get_second() in ['VV','VA'] else w.get_first() for w in komoran.get_list(cleanText(strings)) if w.get_second() in ['NNP','NNG','MAG','VA','VV','MM']]\n",
    "pdf['all_tokens'] = pdf['contents'].progress_map(lambda x:komoran.get_morphes_by_tags(cleanText(x)))\n"
   ]
  },
  {
   "cell_type": "code",
   "execution_count": null,
   "metadata": {},
   "outputs": [],
   "source": []
  }
 ],
 "metadata": {
  "kernelspec": {
   "display_name": "Python 3.9.12 ('base')",
   "language": "python",
   "name": "python3"
  },
  "language_info": {
   "codemirror_mode": {
    "name": "ipython",
    "version": 3
   },
   "file_extension": ".py",
   "mimetype": "text/x-python",
   "name": "python",
   "nbconvert_exporter": "python",
   "pygments_lexer": "ipython3",
   "version": "3.9.12"
  },
  "orig_nbformat": 4,
  "vscode": {
   "interpreter": {
    "hash": "ad2bdc8ecc057115af97d19610ffacc2b4e99fae6737bb82f5d7fb13d2f2c186"
   }
  }
 },
 "nbformat": 4,
 "nbformat_minor": 2
}
